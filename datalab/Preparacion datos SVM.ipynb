{
  "cells": [
    {
      "cell_type": "markdown",
      "metadata": {
        "id": "tL9_NzlW_1kW"
      },
      "source": [
        "# Carga de datos\n",
        "\n",
        "This notebook was develop in order build a unique dataset\n",
        "\n"
      ]
    },
    {
      "cell_type": "markdown",
      "metadata": {
        "id": "StNFtrZvAAj6"
      },
      "source": [
        "## Packages"
      ]
    },
    {
      "cell_type": "code",
      "execution_count": 2,
      "metadata": {
        "id": "_YjsNoYc_8Ek"
      },
      "outputs": [],
      "source": [
        "import pandas as pd"
      ]
    },
    {
      "cell_type": "markdown",
      "metadata": {
        "id": "2V8W5KbqBNNc"
      },
      "source": [
        "## Configuration"
      ]
    },
    {
      "cell_type": "code",
      "execution_count": 3,
      "metadata": {
        "id": "6lAV26X2ADx0"
      },
      "outputs": [],
      "source": [
        "CLASE0_URL = 'https://drive.google.com/uc?id=1zTfaMnJ-TUbmLpDUkNC5o2mqaZSSG6r5'\n",
        "CLASE1_URL = 'https://drive.google.com/uc?id=13wE_QivGj1KzprzGxtDn9aDmErawrS-y'\n",
        "CLASE2_URL = 'https://drive.google.com/uc?id=1cQYrVCXAVu_hzwnGOTImpTLowbIMaJzx'\n",
        "CLASE3_URL = 'https://drive.google.com/uc?id=1uwx82bpAHqib7rNCFA7tVby80UkQ1UGo'"
      ]
    },
    {
      "cell_type": "markdown",
      "metadata": {
        "id": "OtCsLYbXBq0X"
      },
      "source": [
        "## Dataset fetch"
      ]
    },
    {
      "cell_type": "code",
      "execution_count": 5,
      "metadata": {
        "id": "pOKDWPGDBspx"
      },
      "outputs": [],
      "source": [
        "Clase0 = pd.read_csv(CLASE0_URL)\n",
        "Clase1 = pd.read_csv(CLASE1_URL)\n",
        "Clase2 = pd.read_csv(CLASE2_URL)\n",
        "Clase3 = pd.read_csv(CLASE3_URL)\n"
      ]
    },
    {
      "cell_type": "code",
      "execution_count": 6,
      "metadata": {},
      "outputs": [],
      "source": [
        "Clase0.columns =['Sensor1_1', 'Sensor1_2', 'Sensor1_3', 'Sensor1_4', 'Sensor1_5', 'Sensor1_6', 'Sensor1_7', 'Sensor1_8',\n",
        "                'Sensor2_1', 'Sensor2_2', 'Sensor2_3', 'Sensor2_4', 'Sensor2_5', 'Sensor2_6', 'Sensor2_7', 'Sensor2_8',\n",
        "                'Sensor3_1', 'Sensor3_2', 'Sensor3_3', 'Sensor3_4', 'Sensor3_5', 'Sensor3_6', 'Sensor3_7', 'Sensor3_8',\n",
        "                'Sensor4_1', 'Sensor4_2', 'Sensor4_3', 'Sensor4_4', 'Sensor4_5', 'Sensor4_6', 'Sensor4_7', 'Sensor4_8',\n",
        "                'Sensor5_1', 'Sensor5_2', 'Sensor5_3', 'Sensor5_4', 'Sensor5_5', 'Sensor5_6', 'Sensor5_7', 'Sensor5_8',\n",
        "                'Sensor6_1', 'Sensor6_2', 'Sensor6_3', 'Sensor6_4', 'Sensor6_5', 'Sensor6_6', 'Sensor6_7', 'Sensor6_8',\n",
        "                'Sensor7_1', 'Sensor7_2', 'Sensor7_3', 'Sensor7_4', 'Sensor7_5', 'Sensor7_6', 'Sensor7_7', 'Sensor7_8',\n",
        "                'Sensor8_1', 'Sensor8_2', 'Sensor8_3', 'Sensor8_4', 'Sensor8_5', 'Sensor8_6', 'Sensor8_7', 'Sensor8_8', 'GESTURE_CLASS'] \n",
        "\n",
        "Clase1.columns =['Sensor1_1', 'Sensor1_2', 'Sensor1_3', 'Sensor1_4', 'Sensor1_5', 'Sensor1_6', 'Sensor1_7', 'Sensor1_8',\n",
        "                'Sensor2_1', 'Sensor2_2', 'Sensor2_3', 'Sensor2_4', 'Sensor2_5', 'Sensor2_6', 'Sensor2_7', 'Sensor2_8',\n",
        "                'Sensor3_1', 'Sensor3_2', 'Sensor3_3', 'Sensor3_4', 'Sensor3_5', 'Sensor3_6', 'Sensor3_7', 'Sensor3_8',\n",
        "                'Sensor4_1', 'Sensor4_2', 'Sensor4_3', 'Sensor4_4', 'Sensor4_5', 'Sensor4_6', 'Sensor4_7', 'Sensor4_8',\n",
        "                'Sensor5_1', 'Sensor5_2', 'Sensor5_3', 'Sensor5_4', 'Sensor5_5', 'Sensor5_6', 'Sensor5_7', 'Sensor5_8',\n",
        "                'Sensor6_1', 'Sensor6_2', 'Sensor6_3', 'Sensor6_4', 'Sensor6_5', 'Sensor6_6', 'Sensor6_7', 'Sensor6_8',\n",
        "                'Sensor7_1', 'Sensor7_2', 'Sensor7_3', 'Sensor7_4', 'Sensor7_5', 'Sensor7_6', 'Sensor7_7', 'Sensor7_8',\n",
        "                'Sensor8_1', 'Sensor8_2', 'Sensor8_3', 'Sensor8_4', 'Sensor8_5', 'Sensor8_6', 'Sensor8_7', 'Sensor8_8', 'GESTURE_CLASS'] \n",
        "\n",
        "Clase2.columns =['Sensor1_1', 'Sensor1_2', 'Sensor1_3', 'Sensor1_4', 'Sensor1_5', 'Sensor1_6', 'Sensor1_7', 'Sensor1_8',\n",
        "                'Sensor2_1', 'Sensor2_2', 'Sensor2_3', 'Sensor2_4', 'Sensor2_5', 'Sensor2_6', 'Sensor2_7', 'Sensor2_8',\n",
        "                'Sensor3_1', 'Sensor3_2', 'Sensor3_3', 'Sensor3_4', 'Sensor3_5', 'Sensor3_6', 'Sensor3_7', 'Sensor3_8',\n",
        "                'Sensor4_1', 'Sensor4_2', 'Sensor4_3', 'Sensor4_4', 'Sensor4_5', 'Sensor4_6', 'Sensor4_7', 'Sensor4_8',\n",
        "                'Sensor5_1', 'Sensor5_2', 'Sensor5_3', 'Sensor5_4', 'Sensor5_5', 'Sensor5_6', 'Sensor5_7', 'Sensor5_8',\n",
        "                'Sensor6_1', 'Sensor6_2', 'Sensor6_3', 'Sensor6_4', 'Sensor6_5', 'Sensor6_6', 'Sensor6_7', 'Sensor6_8',\n",
        "                'Sensor7_1', 'Sensor7_2', 'Sensor7_3', 'Sensor7_4', 'Sensor7_5', 'Sensor7_6', 'Sensor7_7', 'Sensor7_8',\n",
        "                'Sensor8_1', 'Sensor8_2', 'Sensor8_3', 'Sensor8_4', 'Sensor8_5', 'Sensor8_6', 'Sensor8_7', 'Sensor8_8', 'GESTURE_CLASS'] \n",
        "\n",
        "Clase3.columns =['Sensor1_1', 'Sensor1_2', 'Sensor1_3', 'Sensor1_4', 'Sensor1_5', 'Sensor1_6', 'Sensor1_7', 'Sensor1_8',\n",
        "                'Sensor2_1', 'Sensor2_2', 'Sensor2_3', 'Sensor2_4', 'Sensor2_5', 'Sensor2_6', 'Sensor2_7', 'Sensor2_8',\n",
        "                'Sensor3_1', 'Sensor3_2', 'Sensor3_3', 'Sensor3_4', 'Sensor3_5', 'Sensor3_6', 'Sensor3_7', 'Sensor3_8',\n",
        "                'Sensor4_1', 'Sensor4_2', 'Sensor4_3', 'Sensor4_4', 'Sensor4_5', 'Sensor4_6', 'Sensor4_7', 'Sensor4_8',\n",
        "                'Sensor5_1', 'Sensor5_2', 'Sensor5_3', 'Sensor5_4', 'Sensor5_5', 'Sensor5_6', 'Sensor5_7', 'Sensor5_8',\n",
        "                'Sensor6_1', 'Sensor6_2', 'Sensor6_3', 'Sensor6_4', 'Sensor6_5', 'Sensor6_6', 'Sensor6_7', 'Sensor6_8',\n",
        "                'Sensor7_1', 'Sensor7_2', 'Sensor7_3', 'Sensor7_4', 'Sensor7_5', 'Sensor7_6', 'Sensor7_7', 'Sensor7_8',\n",
        "                'Sensor8_1', 'Sensor8_2', 'Sensor8_3', 'Sensor8_4', 'Sensor8_5', 'Sensor8_6', 'Sensor8_7', 'Sensor8_8', 'GESTURE_CLASS'] \n"
      ]
    },
    {
      "cell_type": "code",
      "execution_count": 7,
      "metadata": {},
      "outputs": [
        {
          "data": {
            "text/html": [
              "<div>\n",
              "<style scoped>\n",
              "    .dataframe tbody tr th:only-of-type {\n",
              "        vertical-align: middle;\n",
              "    }\n",
              "\n",
              "    .dataframe tbody tr th {\n",
              "        vertical-align: top;\n",
              "    }\n",
              "\n",
              "    .dataframe thead th {\n",
              "        text-align: right;\n",
              "    }\n",
              "</style>\n",
              "<table border=\"1\" class=\"dataframe\">\n",
              "  <thead>\n",
              "    <tr style=\"text-align: right;\">\n",
              "      <th></th>\n",
              "      <th>Sensor1_1</th>\n",
              "      <th>Sensor1_2</th>\n",
              "      <th>Sensor1_3</th>\n",
              "      <th>Sensor1_4</th>\n",
              "      <th>Sensor1_5</th>\n",
              "      <th>Sensor1_6</th>\n",
              "      <th>Sensor1_7</th>\n",
              "      <th>Sensor1_8</th>\n",
              "      <th>Sensor2_1</th>\n",
              "      <th>Sensor2_2</th>\n",
              "      <th>...</th>\n",
              "      <th>Sensor7_8</th>\n",
              "      <th>Sensor8_1</th>\n",
              "      <th>Sensor8_2</th>\n",
              "      <th>Sensor8_3</th>\n",
              "      <th>Sensor8_4</th>\n",
              "      <th>Sensor8_5</th>\n",
              "      <th>Sensor8_6</th>\n",
              "      <th>Sensor8_7</th>\n",
              "      <th>Sensor8_8</th>\n",
              "      <th>GESTURE_CLASS</th>\n",
              "    </tr>\n",
              "  </thead>\n",
              "  <tbody>\n",
              "    <tr>\n",
              "      <th>0</th>\n",
              "      <td>-47.0</td>\n",
              "      <td>-6.0</td>\n",
              "      <td>-5.0</td>\n",
              "      <td>-7.0</td>\n",
              "      <td>13.0</td>\n",
              "      <td>-1.0</td>\n",
              "      <td>35.0</td>\n",
              "      <td>-10.0</td>\n",
              "      <td>10.0</td>\n",
              "      <td>-4.0</td>\n",
              "      <td>...</td>\n",
              "      <td>-25.0</td>\n",
              "      <td>47.0</td>\n",
              "      <td>6.0</td>\n",
              "      <td>6.0</td>\n",
              "      <td>5.0</td>\n",
              "      <td>13.0</td>\n",
              "      <td>21.0</td>\n",
              "      <td>111.0</td>\n",
              "      <td>15.0</td>\n",
              "      <td>0</td>\n",
              "    </tr>\n",
              "    <tr>\n",
              "      <th>1</th>\n",
              "      <td>-19.0</td>\n",
              "      <td>-8.0</td>\n",
              "      <td>-8.0</td>\n",
              "      <td>-8.0</td>\n",
              "      <td>-21.0</td>\n",
              "      <td>-6.0</td>\n",
              "      <td>-79.0</td>\n",
              "      <td>12.0</td>\n",
              "      <td>0.0</td>\n",
              "      <td>5.0</td>\n",
              "      <td>...</td>\n",
              "      <td>-83.0</td>\n",
              "      <td>7.0</td>\n",
              "      <td>7.0</td>\n",
              "      <td>1.0</td>\n",
              "      <td>-8.0</td>\n",
              "      <td>7.0</td>\n",
              "      <td>21.0</td>\n",
              "      <td>114.0</td>\n",
              "      <td>48.0</td>\n",
              "      <td>0</td>\n",
              "    </tr>\n",
              "    <tr>\n",
              "      <th>2</th>\n",
              "      <td>2.0</td>\n",
              "      <td>3.0</td>\n",
              "      <td>0.0</td>\n",
              "      <td>2.0</td>\n",
              "      <td>0.0</td>\n",
              "      <td>22.0</td>\n",
              "      <td>106.0</td>\n",
              "      <td>-14.0</td>\n",
              "      <td>-16.0</td>\n",
              "      <td>-2.0</td>\n",
              "      <td>...</td>\n",
              "      <td>-38.0</td>\n",
              "      <td>-11.0</td>\n",
              "      <td>4.0</td>\n",
              "      <td>7.0</td>\n",
              "      <td>11.0</td>\n",
              "      <td>33.0</td>\n",
              "      <td>39.0</td>\n",
              "      <td>119.0</td>\n",
              "      <td>43.0</td>\n",
              "      <td>0</td>\n",
              "    </tr>\n",
              "    <tr>\n",
              "      <th>3</th>\n",
              "      <td>6.0</td>\n",
              "      <td>0.0</td>\n",
              "      <td>0.0</td>\n",
              "      <td>-2.0</td>\n",
              "      <td>-14.0</td>\n",
              "      <td>10.0</td>\n",
              "      <td>-51.0</td>\n",
              "      <td>5.0</td>\n",
              "      <td>7.0</td>\n",
              "      <td>0.0</td>\n",
              "      <td>...</td>\n",
              "      <td>38.0</td>\n",
              "      <td>-35.0</td>\n",
              "      <td>-8.0</td>\n",
              "      <td>2.0</td>\n",
              "      <td>6.0</td>\n",
              "      <td>-13.0</td>\n",
              "      <td>-24.0</td>\n",
              "      <td>-112.0</td>\n",
              "      <td>-69.0</td>\n",
              "      <td>0</td>\n",
              "    </tr>\n",
              "    <tr>\n",
              "      <th>4</th>\n",
              "      <td>15.0</td>\n",
              "      <td>-5.0</td>\n",
              "      <td>-5.0</td>\n",
              "      <td>-15.0</td>\n",
              "      <td>12.0</td>\n",
              "      <td>-22.0</td>\n",
              "      <td>-38.0</td>\n",
              "      <td>36.0</td>\n",
              "      <td>9.0</td>\n",
              "      <td>6.0</td>\n",
              "      <td>...</td>\n",
              "      <td>-26.0</td>\n",
              "      <td>5.0</td>\n",
              "      <td>6.0</td>\n",
              "      <td>6.0</td>\n",
              "      <td>11.0</td>\n",
              "      <td>5.0</td>\n",
              "      <td>30.0</td>\n",
              "      <td>-48.0</td>\n",
              "      <td>25.0</td>\n",
              "      <td>0</td>\n",
              "    </tr>\n",
              "  </tbody>\n",
              "</table>\n",
              "<p>5 rows × 65 columns</p>\n",
              "</div>"
            ],
            "text/plain": [
              "   Sensor1_1  Sensor1_2  Sensor1_3  Sensor1_4  Sensor1_5  Sensor1_6  \\\n",
              "0      -47.0       -6.0       -5.0       -7.0       13.0       -1.0   \n",
              "1      -19.0       -8.0       -8.0       -8.0      -21.0       -6.0   \n",
              "2        2.0        3.0        0.0        2.0        0.0       22.0   \n",
              "3        6.0        0.0        0.0       -2.0      -14.0       10.0   \n",
              "4       15.0       -5.0       -5.0      -15.0       12.0      -22.0   \n",
              "\n",
              "   Sensor1_7  Sensor1_8  Sensor2_1  Sensor2_2  ...  Sensor7_8  Sensor8_1  \\\n",
              "0       35.0      -10.0       10.0       -4.0  ...      -25.0       47.0   \n",
              "1      -79.0       12.0        0.0        5.0  ...      -83.0        7.0   \n",
              "2      106.0      -14.0      -16.0       -2.0  ...      -38.0      -11.0   \n",
              "3      -51.0        5.0        7.0        0.0  ...       38.0      -35.0   \n",
              "4      -38.0       36.0        9.0        6.0  ...      -26.0        5.0   \n",
              "\n",
              "   Sensor8_2  Sensor8_3  Sensor8_4  Sensor8_5  Sensor8_6  Sensor8_7  \\\n",
              "0        6.0        6.0        5.0       13.0       21.0      111.0   \n",
              "1        7.0        1.0       -8.0        7.0       21.0      114.0   \n",
              "2        4.0        7.0       11.0       33.0       39.0      119.0   \n",
              "3       -8.0        2.0        6.0      -13.0      -24.0     -112.0   \n",
              "4        6.0        6.0       11.0        5.0       30.0      -48.0   \n",
              "\n",
              "   Sensor8_8  GESTURE_CLASS  \n",
              "0       15.0              0  \n",
              "1       48.0              0  \n",
              "2       43.0              0  \n",
              "3      -69.0              0  \n",
              "4       25.0              0  \n",
              "\n",
              "[5 rows x 65 columns]"
            ]
          },
          "execution_count": 7,
          "metadata": {},
          "output_type": "execute_result"
        }
      ],
      "source": [
        "Clase0.head()"
      ]
    },
    {
      "cell_type": "code",
      "execution_count": 8,
      "metadata": {
        "colab": {
          "base_uri": "https://localhost:8080/"
        },
        "id": "dYaXYu-EBxlc",
        "outputId": "e6fc2b3a-2e03-4a78-e4f2-72156597f180"
      },
      "outputs": [
        {
          "name": "stdout",
          "output_type": "stream",
          "text": [
            "Clase0.shape =  (2909, 65)\n",
            "Clase1.shape =  (2902, 65)\n",
            "Clase2.shape =  (2942, 65)\n",
            "Clase3.shape =  (2921, 65)\n"
          ]
        }
      ],
      "source": [
        "print('Clase0.shape = ',Clase0.shape)\n",
        "print('Clase1.shape = ',Clase1.shape)\n",
        "print('Clase2.shape = ',Clase2.shape)\n",
        "print('Clase3.shape = ',Clase3.shape)"
      ]
    },
    {
      "cell_type": "code",
      "execution_count": 9,
      "metadata": {
        "id": "-YgY_TcGFLOp"
      },
      "outputs": [
        {
          "name": "stdout",
          "output_type": "stream",
          "text": [
            "complete_dataframe.shape =  (11674, 65)\n"
          ]
        }
      ],
      "source": [
        "complete_dataframe = pd.concat([Clase0, Clase1, Clase2, Clase3], axis=0)\n",
        "print('complete_dataframe.shape = ', complete_dataframe.shape)"
      ]
    },
    {
      "cell_type": "code",
      "execution_count": 10,
      "metadata": {
        "colab": {
          "base_uri": "https://localhost:8080/"
        },
        "id": "AzYI7ilQFeck",
        "outputId": "eea824ea-db9d-4a84-c335-a9fb45883e51"
      },
      "outputs": [
        {
          "data": {
            "text/html": [
              "<div>\n",
              "<style scoped>\n",
              "    .dataframe tbody tr th:only-of-type {\n",
              "        vertical-align: middle;\n",
              "    }\n",
              "\n",
              "    .dataframe tbody tr th {\n",
              "        vertical-align: top;\n",
              "    }\n",
              "\n",
              "    .dataframe thead th {\n",
              "        text-align: right;\n",
              "    }\n",
              "</style>\n",
              "<table border=\"1\" class=\"dataframe\">\n",
              "  <thead>\n",
              "    <tr style=\"text-align: right;\">\n",
              "      <th></th>\n",
              "      <th>Sensor1_1</th>\n",
              "      <th>Sensor1_2</th>\n",
              "      <th>Sensor1_3</th>\n",
              "      <th>Sensor1_4</th>\n",
              "      <th>Sensor1_5</th>\n",
              "      <th>Sensor1_6</th>\n",
              "      <th>Sensor1_7</th>\n",
              "      <th>Sensor1_8</th>\n",
              "      <th>Sensor2_1</th>\n",
              "      <th>Sensor2_2</th>\n",
              "      <th>...</th>\n",
              "      <th>Sensor7_8</th>\n",
              "      <th>Sensor8_1</th>\n",
              "      <th>Sensor8_2</th>\n",
              "      <th>Sensor8_3</th>\n",
              "      <th>Sensor8_4</th>\n",
              "      <th>Sensor8_5</th>\n",
              "      <th>Sensor8_6</th>\n",
              "      <th>Sensor8_7</th>\n",
              "      <th>Sensor8_8</th>\n",
              "      <th>GESTURE_CLASS</th>\n",
              "    </tr>\n",
              "  </thead>\n",
              "  <tbody>\n",
              "    <tr>\n",
              "      <th>0</th>\n",
              "      <td>-47.0</td>\n",
              "      <td>-6.0</td>\n",
              "      <td>-5.0</td>\n",
              "      <td>-7.0</td>\n",
              "      <td>13.0</td>\n",
              "      <td>-1.0</td>\n",
              "      <td>35.0</td>\n",
              "      <td>-10.0</td>\n",
              "      <td>10.0</td>\n",
              "      <td>-4.0</td>\n",
              "      <td>...</td>\n",
              "      <td>-25.0</td>\n",
              "      <td>47.0</td>\n",
              "      <td>6.0</td>\n",
              "      <td>6.0</td>\n",
              "      <td>5.0</td>\n",
              "      <td>13.0</td>\n",
              "      <td>21.0</td>\n",
              "      <td>111.0</td>\n",
              "      <td>15.0</td>\n",
              "      <td>0</td>\n",
              "    </tr>\n",
              "    <tr>\n",
              "      <th>1</th>\n",
              "      <td>-19.0</td>\n",
              "      <td>-8.0</td>\n",
              "      <td>-8.0</td>\n",
              "      <td>-8.0</td>\n",
              "      <td>-21.0</td>\n",
              "      <td>-6.0</td>\n",
              "      <td>-79.0</td>\n",
              "      <td>12.0</td>\n",
              "      <td>0.0</td>\n",
              "      <td>5.0</td>\n",
              "      <td>...</td>\n",
              "      <td>-83.0</td>\n",
              "      <td>7.0</td>\n",
              "      <td>7.0</td>\n",
              "      <td>1.0</td>\n",
              "      <td>-8.0</td>\n",
              "      <td>7.0</td>\n",
              "      <td>21.0</td>\n",
              "      <td>114.0</td>\n",
              "      <td>48.0</td>\n",
              "      <td>0</td>\n",
              "    </tr>\n",
              "    <tr>\n",
              "      <th>2</th>\n",
              "      <td>2.0</td>\n",
              "      <td>3.0</td>\n",
              "      <td>0.0</td>\n",
              "      <td>2.0</td>\n",
              "      <td>0.0</td>\n",
              "      <td>22.0</td>\n",
              "      <td>106.0</td>\n",
              "      <td>-14.0</td>\n",
              "      <td>-16.0</td>\n",
              "      <td>-2.0</td>\n",
              "      <td>...</td>\n",
              "      <td>-38.0</td>\n",
              "      <td>-11.0</td>\n",
              "      <td>4.0</td>\n",
              "      <td>7.0</td>\n",
              "      <td>11.0</td>\n",
              "      <td>33.0</td>\n",
              "      <td>39.0</td>\n",
              "      <td>119.0</td>\n",
              "      <td>43.0</td>\n",
              "      <td>0</td>\n",
              "    </tr>\n",
              "    <tr>\n",
              "      <th>3</th>\n",
              "      <td>6.0</td>\n",
              "      <td>0.0</td>\n",
              "      <td>0.0</td>\n",
              "      <td>-2.0</td>\n",
              "      <td>-14.0</td>\n",
              "      <td>10.0</td>\n",
              "      <td>-51.0</td>\n",
              "      <td>5.0</td>\n",
              "      <td>7.0</td>\n",
              "      <td>0.0</td>\n",
              "      <td>...</td>\n",
              "      <td>38.0</td>\n",
              "      <td>-35.0</td>\n",
              "      <td>-8.0</td>\n",
              "      <td>2.0</td>\n",
              "      <td>6.0</td>\n",
              "      <td>-13.0</td>\n",
              "      <td>-24.0</td>\n",
              "      <td>-112.0</td>\n",
              "      <td>-69.0</td>\n",
              "      <td>0</td>\n",
              "    </tr>\n",
              "    <tr>\n",
              "      <th>4</th>\n",
              "      <td>15.0</td>\n",
              "      <td>-5.0</td>\n",
              "      <td>-5.0</td>\n",
              "      <td>-15.0</td>\n",
              "      <td>12.0</td>\n",
              "      <td>-22.0</td>\n",
              "      <td>-38.0</td>\n",
              "      <td>36.0</td>\n",
              "      <td>9.0</td>\n",
              "      <td>6.0</td>\n",
              "      <td>...</td>\n",
              "      <td>-26.0</td>\n",
              "      <td>5.0</td>\n",
              "      <td>6.0</td>\n",
              "      <td>6.0</td>\n",
              "      <td>11.0</td>\n",
              "      <td>5.0</td>\n",
              "      <td>30.0</td>\n",
              "      <td>-48.0</td>\n",
              "      <td>25.0</td>\n",
              "      <td>0</td>\n",
              "    </tr>\n",
              "  </tbody>\n",
              "</table>\n",
              "<p>5 rows × 65 columns</p>\n",
              "</div>"
            ],
            "text/plain": [
              "   Sensor1_1  Sensor1_2  Sensor1_3  Sensor1_4  Sensor1_5  Sensor1_6  \\\n",
              "0      -47.0       -6.0       -5.0       -7.0       13.0       -1.0   \n",
              "1      -19.0       -8.0       -8.0       -8.0      -21.0       -6.0   \n",
              "2        2.0        3.0        0.0        2.0        0.0       22.0   \n",
              "3        6.0        0.0        0.0       -2.0      -14.0       10.0   \n",
              "4       15.0       -5.0       -5.0      -15.0       12.0      -22.0   \n",
              "\n",
              "   Sensor1_7  Sensor1_8  Sensor2_1  Sensor2_2  ...  Sensor7_8  Sensor8_1  \\\n",
              "0       35.0      -10.0       10.0       -4.0  ...      -25.0       47.0   \n",
              "1      -79.0       12.0        0.0        5.0  ...      -83.0        7.0   \n",
              "2      106.0      -14.0      -16.0       -2.0  ...      -38.0      -11.0   \n",
              "3      -51.0        5.0        7.0        0.0  ...       38.0      -35.0   \n",
              "4      -38.0       36.0        9.0        6.0  ...      -26.0        5.0   \n",
              "\n",
              "   Sensor8_2  Sensor8_3  Sensor8_4  Sensor8_5  Sensor8_6  Sensor8_7  \\\n",
              "0        6.0        6.0        5.0       13.0       21.0      111.0   \n",
              "1        7.0        1.0       -8.0        7.0       21.0      114.0   \n",
              "2        4.0        7.0       11.0       33.0       39.0      119.0   \n",
              "3       -8.0        2.0        6.0      -13.0      -24.0     -112.0   \n",
              "4        6.0        6.0       11.0        5.0       30.0      -48.0   \n",
              "\n",
              "   Sensor8_8  GESTURE_CLASS  \n",
              "0       15.0              0  \n",
              "1       48.0              0  \n",
              "2       43.0              0  \n",
              "3      -69.0              0  \n",
              "4       25.0              0  \n",
              "\n",
              "[5 rows x 65 columns]"
            ]
          },
          "execution_count": 10,
          "metadata": {},
          "output_type": "execute_result"
        }
      ],
      "source": [
        "complete_dataframe.head()"
      ]
    },
    {
      "cell_type": "markdown",
      "metadata": {
        "id": "m78E0t2b4Gy9"
      },
      "source": [
        "## Dataset cleaning"
      ]
    },
    {
      "cell_type": "code",
      "execution_count": 11,
      "metadata": {
        "colab": {
          "base_uri": "https://localhost:8080/"
        },
        "id": "jmDO-fRh4XdV",
        "outputId": "b63b6f85-c717-4753-848c-3c449cbc0622"
      },
      "outputs": [
        {
          "data": {
            "text/plain": [
              "Sensor1_1        0\n",
              "Sensor1_2        0\n",
              "Sensor1_3        0\n",
              "Sensor1_4        0\n",
              "Sensor1_5        0\n",
              "                ..\n",
              "Sensor8_5        0\n",
              "Sensor8_6        0\n",
              "Sensor8_7        0\n",
              "Sensor8_8        0\n",
              "GESTURE_CLASS    0\n",
              "Length: 65, dtype: int64"
            ]
          },
          "execution_count": 11,
          "metadata": {},
          "output_type": "execute_result"
        }
      ],
      "source": [
        "complete_dataframe.isna().sum()"
      ]
    },
    {
      "cell_type": "code",
      "execution_count": 12,
      "metadata": {
        "id": "VqNsLWDv4JMn"
      },
      "outputs": [],
      "source": [
        "complete_dataframe.dropna(inplace=True)    # no aplica, no hay datos NA"
      ]
    },
    {
      "cell_type": "code",
      "execution_count": 13,
      "metadata": {
        "colab": {
          "base_uri": "https://localhost:8080/"
        },
        "id": "kf8wBxoT44fk",
        "outputId": "6f56697c-2ce1-4667-9d16-4638bce3536c"
      },
      "outputs": [
        {
          "data": {
            "text/plain": [
              "(11674, 65)"
            ]
          },
          "execution_count": 13,
          "metadata": {},
          "output_type": "execute_result"
        }
      ],
      "source": [
        "complete_dataframe.shape"
      ]
    },
    {
      "cell_type": "markdown",
      "metadata": {
        "id": "e5vK-pEnXssQ"
      },
      "source": [
        "## Dataset consolidado"
      ]
    },
    {
      "cell_type": "code",
      "execution_count": 14,
      "metadata": {
        "id": "obG2-f-Ka_6k"
      },
      "outputs": [],
      "source": [
        "complete_dataframe.to_csv('gesture_df_complete.csv', index = False)"
      ]
    }
  ],
  "metadata": {
    "colab": {
      "collapsed_sections": [
        "tL9_NzlW_1kW",
        "StNFtrZvAAj6",
        "2V8W5KbqBNNc",
        "OtCsLYbXBq0X",
        "AsLOlWmRDPTx",
        "Zevo75IfFtV8",
        "m78E0t2b4Gy9",
        "e5vK-pEnXssQ"
      ],
      "provenance": []
    },
    "kernelspec": {
      "display_name": "Python 3.9.13 64-bit (microsoft store)",
      "language": "python",
      "name": "python3"
    },
    "language_info": {
      "codemirror_mode": {
        "name": "ipython",
        "version": 3
      },
      "file_extension": ".py",
      "mimetype": "text/x-python",
      "name": "python",
      "nbconvert_exporter": "python",
      "pygments_lexer": "ipython3",
      "version": "3.9.13"
    },
    "vscode": {
      "interpreter": {
        "hash": "0714af7826c5296f4ab0e94a0c6a529a3c5bc36739c3334fafca465e465fa95d"
      }
    }
  },
  "nbformat": 4,
  "nbformat_minor": 0
}
